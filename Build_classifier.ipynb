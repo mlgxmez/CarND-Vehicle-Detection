{
 "cells": [
  {
   "cell_type": "code",
   "execution_count": 11,
   "metadata": {
    "collapsed": true
   },
   "outputs": [],
   "source": [
    "import glob\n",
    "import cv2\n",
    "import pickle\n",
    "import numpy as np\n",
    "import matplotlib.image as mpimg\n",
    "from skimage.feature import hog\n",
    "from tqdm import *\n",
    "from lesson_functions import *"
   ]
  },
  {
   "cell_type": "markdown",
   "metadata": {},
   "source": [
    "In this notebook an SVM classifier for vehicles is going to be trained."
   ]
  },
  {
   "cell_type": "markdown",
   "metadata": {},
   "source": [
    "## Load images"
   ]
  },
  {
   "cell_type": "code",
   "execution_count": 2,
   "metadata": {},
   "outputs": [
    {
     "name": "stderr",
     "output_type": "stream",
     "text": [
      "100%|██████████| 8792/8792 [00:32<00:00, 272.14it/s]\n"
     ]
    }
   ],
   "source": [
    "# Append vehicle data to a list\n",
    "vehicles_data = []\n",
    "files = glob.glob (\"./data/vehicles/**/*.png\")\n",
    "for myFile in tqdm(files):\n",
    "    image = mpimg.imread (myFile)\n",
    "    vehicles_data.append(image)"
   ]
  },
  {
   "cell_type": "code",
   "execution_count": 3,
   "metadata": {},
   "outputs": [
    {
     "name": "stderr",
     "output_type": "stream",
     "text": [
      "100%|██████████| 8968/8968 [00:30<00:00, 297.40it/s]\n"
     ]
    }
   ],
   "source": [
    "# Append non-vehicle data to a list\n",
    "non_vehicles_data = []\n",
    "files = glob.glob (\"./data/non-vehicles/**/*.png\")\n",
    "for myFile in tqdm(files):\n",
    "    image = mpimg.imread (myFile)\n",
    "    non_vehicles_data.append(image)"
   ]
  },
  {
   "cell_type": "markdown",
   "metadata": {},
   "source": [
    "## Extract features from images"
   ]
  },
  {
   "cell_type": "code",
   "execution_count": 9,
   "metadata": {},
   "outputs": [],
   "source": [
    "orient = 9\n",
    "pix_per_cell = 8\n",
    "cell_per_block = 2\n",
    "spatial_size = (32, 32)\n",
    "hist_bins = 32"
   ]
  },
  {
   "cell_type": "code",
   "execution_count": 16,
   "metadata": {},
   "outputs": [
    {
     "name": "stderr",
     "output_type": "stream",
     "text": [
      "/home/guillermo/anaconda3/envs/carnd-term1/lib/python3.5/site-packages/skimage/feature/_hog.py:119: skimage_deprecation: Default value of `block_norm`==`L1` is deprecated and will be changed to `L2-Hys` in v0.15\n",
      "  'be changed to `L2-Hys` in v0.15', skimage_deprecation)\n"
     ]
    }
   ],
   "source": [
    "trans_img = convert_color(vehicles_data[0], conv='RGB2YCrCb')\n",
    "# Separate channels\n",
    "ch1 = trans_img[:,:,0]\n",
    "ch2 = trans_img[:,:,1]\n",
    "ch3 = trans_img[:,:,2]\n",
    "hog1 = get_hog_features(ch1, orient, pix_per_cell, cell_per_block, feature_vec=False)\n",
    "hog2 = get_hog_features(ch2, orient, pix_per_cell, cell_per_block, feature_vec=False)\n",
    "hog3 = get_hog_features(ch3, orient, pix_per_cell, cell_per_block, feature_vec=False)\n",
    "hog_features = np.hstack((hog1.ravel(), hog2.ravel(), hog3.ravel()))\n",
    "spatial_features = bin_spatial(trans_img, size=spatial_size)\n",
    "hist_features = color_hist(trans_img, nbins=hist_bins)\n",
    "train_features = np.hstack((spatial_features, hist_features, hog_features)).reshape(1, -1)"
   ]
  },
  {
   "cell_type": "code",
   "execution_count": 19,
   "metadata": {},
   "outputs": [
    {
     "name": "stderr",
     "output_type": "stream",
     "text": [
      "  0%|          | 0/17760 [00:00<?, ?it/s]/home/guillermo/anaconda3/envs/carnd-term1/lib/python3.5/site-packages/skimage/feature/_hog.py:119: skimage_deprecation: Default value of `block_norm`==`L1` is deprecated and will be changed to `L2-Hys` in v0.15\n",
      "  'be changed to `L2-Hys` in v0.15', skimage_deprecation)\n",
      "100%|██████████| 17760/17760 [10:11<00:00, 29.04it/s]\n"
     ]
    }
   ],
   "source": [
    "train_features = []\n",
    "for img in tqdm(vehicles_data + non_vehicles_data):\n",
    "    trans_img = convert_color(img, conv='RGB2YCrCb')\n",
    "    # Separate channels\n",
    "    ch1 = trans_img[:,:,0]\n",
    "    ch2 = trans_img[:,:,1]\n",
    "    ch3 = trans_img[:,:,2]\n",
    "    hog1 = get_hog_features(ch1, orient, pix_per_cell, cell_per_block, feature_vec=False)\n",
    "    hog2 = get_hog_features(ch2, orient, pix_per_cell, cell_per_block, feature_vec=False)\n",
    "    hog3 = get_hog_features(ch3, orient, pix_per_cell, cell_per_block, feature_vec=False)\n",
    "    hog_features = np.hstack((hog1.ravel(), hog2.ravel(), hog3.ravel()))\n",
    "    spatial_features = bin_spatial(trans_img, size=spatial_size)\n",
    "    hist_features = color_hist(trans_img, nbins=hist_bins)\n",
    "    train_features.append(np.hstack((spatial_features, hist_features, hog_features)).reshape(1, -1))\n",
    "    \n",
    "X = np.vstack(train_features).astype(np.float64)\n",
    "y = np.hstack((np.ones(len(vehicles_data)), np.zeros(len(non_vehicles_data))))"
   ]
  },
  {
   "cell_type": "markdown",
   "metadata": {},
   "source": [
    "Subset of data to train the SVM."
   ]
  },
  {
   "cell_type": "code",
   "execution_count": 21,
   "metadata": {},
   "outputs": [],
   "source": [
    "np.random.seed(48)\n",
    "numsamples = 7000\n",
    "arr = np.arange(len(X))\n",
    "np.random.shuffle(arr)\n",
    "Xs = X[arr[:numsamples]]\n",
    "ys = y[arr[:numsamples]]"
   ]
  },
  {
   "cell_type": "code",
   "execution_count": 22,
   "metadata": {},
   "outputs": [
    {
     "data": {
      "text/plain": [
       "GridSearchCV(cv=ShuffleSplit(n_splits=10, random_state=0, test_size=0.1, train_size=0.8),\n",
       "       error_score='raise',\n",
       "       estimator=Pipeline(steps=[('scaling', StandardScaler(copy=True, with_mean=True, with_std=True)), ('svr', SVC(C=1.0, cache_size=200, class_weight=None, coef0=0.0,\n",
       "  decision_function_shape=None, degree=3, gamma='auto', kernel='linear',\n",
       "  max_iter=-1, probability=False, random_state=None, shrinking=True,\n",
       "  tol=0.001, verbose=False))]),\n",
       "       fit_params={}, iid=True, n_jobs=-1,\n",
       "       param_grid={'svr__C': [0.1, 1, 10]}, pre_dispatch='2*n_jobs',\n",
       "       refit=True, return_train_score=True, scoring=None, verbose=0)"
      ]
     },
     "execution_count": 22,
     "metadata": {},
     "output_type": "execute_result"
    }
   ],
   "source": [
    "from sklearn import svm\n",
    "from sklearn.pipeline import Pipeline\n",
    "from sklearn.preprocessing import StandardScaler\n",
    "from sklearn.model_selection import GridSearchCV\n",
    "from sklearn.model_selection import ShuffleSplit\n",
    "\n",
    "svr = svm.SVC(kernel='linear')\n",
    "param_grid = dict(svr__C = [0.1, 1, 10])\n",
    "pipeline = Pipeline([('scaling', StandardScaler()), ('svr',svr)])\n",
    "clf = GridSearchCV(pipeline,param_grid=param_grid,cv=ShuffleSplit(train_size = 0.8, random_state=0), n_jobs=-1)\n",
    "clf.fit(Xs,ys)"
   ]
  },
  {
   "cell_type": "code",
   "execution_count": 23,
   "metadata": {},
   "outputs": [
    {
     "data": {
      "text/plain": [
       "0.99271428571428566"
      ]
     },
     "execution_count": 23,
     "metadata": {},
     "output_type": "execute_result"
    }
   ],
   "source": [
    "clf.best_score_"
   ]
  },
  {
   "cell_type": "code",
   "execution_count": 24,
   "metadata": {},
   "outputs": [
    {
     "data": {
      "text/plain": [
       "0.98959107806691449"
      ]
     },
     "execution_count": 24,
     "metadata": {},
     "output_type": "execute_result"
    }
   ],
   "source": [
    "clf.score(X[arr[numsamples:]], y[arr[numsamples:]])"
   ]
  },
  {
   "cell_type": "code",
   "execution_count": 25,
   "metadata": {
    "collapsed": true
   },
   "outputs": [],
   "source": [
    "import pickle\n",
    "pickle.dump(clf,open('svc.p','wb'))"
   ]
  }
 ],
 "metadata": {
  "kernelspec": {
   "display_name": "Python [conda env:carnd-term1]",
   "language": "python",
   "name": "conda-env-carnd-term1-py"
  },
  "language_info": {
   "codemirror_mode": {
    "name": "ipython",
    "version": 3
   },
   "file_extension": ".py",
   "mimetype": "text/x-python",
   "name": "python",
   "nbconvert_exporter": "python",
   "pygments_lexer": "ipython3",
   "version": "3.5.2"
  },
  "widgets": {
   "state": {},
   "version": "1.1.2"
  }
 },
 "nbformat": 4,
 "nbformat_minor": 2
}
